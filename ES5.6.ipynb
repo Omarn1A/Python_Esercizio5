{
 "cells": [
  {
   "cell_type": "code",
   "execution_count": 9,
   "id": "baa8d16f-688e-4869-a94c-4711197e9926",
   "metadata": {},
   "outputs": [],
   "source": [
    "from sqlalchemy import create_engine\n",
    "import dotenv\n",
    "import os\n",
    "import pandas as pd\n",
    "dotenv.load_dotenv(override=True)\n",
    "username = os.getenv('username')\n",
    "password = os.getenv('password')\n",
    "host = os.getenv('host')\n",
    "dbname = os.getenv('dbname')\n",
    "\n",
    "import pandas as pd\n",
    "dbname = \"AdventureWorksDW\"\n",
    "conn_string = f\"mysql+pymysql://{username}:{password}@{host}/{dbname}\"\n",
    "db_engine = create_engine(conn_string)\n",
    "query = \"\"\"SELECT *\n",
    "        FROM dimemployee\n",
    "        \"\"\"\n",
    "df = pd.read_sql(query, db_engine)"
   ]
  },
  {
   "cell_type": "code",
   "execution_count": 28,
   "id": "2a1c6a5f-1e0b-4d04-871b-c54efaff15eb",
   "metadata": {},
   "outputs": [],
   "source": [
    "from sqlalchemy import create_engine\n",
    "import dotenv\n",
    "import os\n",
    "import pandas as pd\n",
    "dotenv.load_dotenv(override=True)\n",
    "username = os.getenv('username')\n",
    "password = os.getenv('password')\n",
    "host = os.getenv('host')\n",
    "dbname = os.getenv('dbname')\n",
    "\n",
    "import pandas as pd\n",
    "dbname = \"AdventureWorksDW\"\n",
    "conn_string = f\"mysql+pymysql://{username}:{password}@{host}/{dbname}\"\n",
    "db_engine = create_engine(conn_string)\n",
    "query = \"\"\"SELECT *\n",
    "        FROM dimemployeesalesterritory\n",
    "        \"\"\"\n",
    "df1 = pd.read_sql(query, db_engine)"
   ]
  },
  {
   "cell_type": "code",
   "execution_count": 20,
   "id": "4122501e-3e5c-41d5-add3-175c0114313f",
   "metadata": {},
   "outputs": [
    {
     "data": {
      "text/plain": [
       "(11, 6)"
      ]
     },
     "execution_count": 20,
     "metadata": {},
     "output_type": "execute_result"
    }
   ],
   "source": [
    "df1.shape"
   ]
  },
  {
   "cell_type": "code",
   "execution_count": 21,
   "id": "588df845-de9a-4e5b-9088-687c09033766",
   "metadata": {},
   "outputs": [
    {
     "data": {
      "text/plain": [
       "(296, 28)"
      ]
     },
     "execution_count": 21,
     "metadata": {},
     "output_type": "execute_result"
    }
   ],
   "source": [
    "df.shape"
   ]
  },
  {
   "cell_type": "code",
   "execution_count": 34,
   "id": "491df1e4-e81f-40d0-b149-3321da823433",
   "metadata": {},
   "outputs": [],
   "source": [
    "df_unito=df.merge(df1, how='left', on='EmployeeKey')"
   ]
  },
  {
   "cell_type": "code",
   "execution_count": 35,
   "id": "ee658662-a138-411f-a66d-a16168cfe372",
   "metadata": {},
   "outputs": [
    {
     "data": {
      "text/plain": [
       "(317, 29)"
      ]
     },
     "execution_count": 35,
     "metadata": {},
     "output_type": "execute_result"
    }
   ],
   "source": [
    "df_unito.shape"
   ]
  },
  {
   "cell_type": "code",
   "execution_count": 27,
   "id": "bb2b0b4c-71a4-4ba9-a0ef-112fb61777da",
   "metadata": {},
   "outputs": [],
   "source": [
    "from sqlalchemy import create_engine\n",
    "import dotenv\n",
    "import os\n",
    "import pandas as pd\n",
    "dotenv.load_dotenv(override=True)\n",
    "username = os.getenv('username')\n",
    "password = os.getenv('password')\n",
    "host = os.getenv('host')\n",
    "dbname = os.getenv('dbname')\n",
    "\n",
    "import pandas as pd\n",
    "dbname = \"AdventureWorksDW\"\n",
    "conn_string = f\"mysql+pymysql://{username}:{password}@{host}/{dbname}\"\n",
    "db_engine = create_engine(conn_string)\n",
    "query = \"\"\"SELECT *\n",
    "        FROM dimsalesterritory\n",
    "        \"\"\"\n",
    "df2 = pd.read_sql(query, db_engine)"
   ]
  },
  {
   "cell_type": "code",
   "execution_count": 40,
   "id": "95af09bd-f0d5-4855-a2e4-968321e87a33",
   "metadata": {},
   "outputs": [],
   "source": [
    "df_finale=df_unito.merge(df2, how='right', on='SalesTerritoryKey')"
   ]
  },
  {
   "cell_type": "code",
   "execution_count": 43,
   "id": "f04ebaec-d81c-4fe9-a502-7cee4b4dd508",
   "metadata": {},
   "outputs": [
    {
     "data": {
      "text/plain": [
       "Index(['EmployeeKey', 'ParentEmployeeKey', 'EmployeeNationalIDAlternateKey',\n",
       "       'ParentEmployeeNationalIDAlternateKey', 'FirstName', 'LastName',\n",
       "       'MiddleName', 'NameStyle', 'Title', 'HireDate', 'BirthDate', 'LoginID',\n",
       "       'EmailAddress', 'Phone', 'MaritalStatus', 'EmergencyContactName',\n",
       "       'EmergencyContactPhone', 'SalariedFlag', 'Gender', 'PayFrequency',\n",
       "       'BaseRate', 'VacationHours', 'SickLeaveHours', 'CurrentFlag',\n",
       "       'SalesPersonFlag', 'DepartmentName', 'EmployeePhoto', 'Position',\n",
       "       'SalesTerritoryKey', 'SalesTerritoryAlternateKey',\n",
       "       'SalesTerritoryRegion', 'SalesTerritoryCountry', 'SalesTerritoryGroup',\n",
       "       'SalesTerritoryImage'],\n",
       "      dtype='object')"
      ]
     },
     "execution_count": 43,
     "metadata": {},
     "output_type": "execute_result"
    }
   ],
   "source": [
    "df_finale.columns"
   ]
  },
  {
   "cell_type": "code",
   "execution_count": 44,
   "id": "b1b99aad-fe56-46a2-bf93-2857a379aebe",
   "metadata": {},
   "outputs": [
    {
     "data": {
      "text/plain": [
       "SalesTerritoryRegion\n",
       "Australia          867.0\n",
       "Canada            1121.0\n",
       "Central           1395.0\n",
       "Corporate HQ         0.0\n",
       "France            1150.0\n",
       "Germany            862.0\n",
       "Northeast          830.0\n",
       "Northwest         1417.0\n",
       "Southeast         1115.0\n",
       "Southwest         1404.0\n",
       "United Kingdom     858.0\n",
       "Name: EmployeeKey, dtype: float64"
      ]
     },
     "execution_count": 44,
     "metadata": {},
     "output_type": "execute_result"
    }
   ],
   "source": [
    "df_finale.groupby('SalesTerritoryRegion')['EmployeeKey'].sum()"
   ]
  },
  {
   "cell_type": "code",
   "execution_count": 45,
   "id": "ab70cc30-bd02-4031-8f24-27200ea69a82",
   "metadata": {},
   "outputs": [
    {
     "data": {
      "text/plain": [
       "SalesTerritoryCountry\n",
       "Australia          867.0\n",
       "Canada            1121.0\n",
       "Corporate HQ         0.0\n",
       "France            1150.0\n",
       "Germany            862.0\n",
       "United Kingdom     858.0\n",
       "United States     6161.0\n",
       "Name: EmployeeKey, dtype: float64"
      ]
     },
     "execution_count": 45,
     "metadata": {},
     "output_type": "execute_result"
    }
   ],
   "source": [
    "df_finale.groupby('SalesTerritoryCountry')['EmployeeKey'].sum()"
   ]
  },
  {
   "cell_type": "code",
   "execution_count": 46,
   "id": "c3067ae4-3ad5-4b5a-bb31-673ac5b7f302",
   "metadata": {},
   "outputs": [
    {
     "data": {
      "text/plain": [
       "SalesTerritoryCountry\n",
       "Australia         47.764433\n",
       "Canada            41.592550\n",
       "Corporate HQ            NaN\n",
       "France            41.592550\n",
       "Germany           47.764433\n",
       "United Kingdom    47.764433\n",
       "United States     39.909309\n",
       "Name: BaseRate, dtype: float64"
      ]
     },
     "execution_count": 46,
     "metadata": {},
     "output_type": "execute_result"
    }
   ],
   "source": [
    "df_finale.groupby('SalesTerritoryCountry')['BaseRate'].mean()"
   ]
  },
  {
   "cell_type": "code",
   "execution_count": null,
   "id": "7ea7b5fb-42f1-45d7-9c8f-679036e3258d",
   "metadata": {},
   "outputs": [],
   "source": []
  }
 ],
 "metadata": {
  "kernelspec": {
   "display_name": "Python 3 (ipykernel)",
   "language": "python",
   "name": "python3"
  },
  "language_info": {
   "codemirror_mode": {
    "name": "ipython",
    "version": 3
   },
   "file_extension": ".py",
   "mimetype": "text/x-python",
   "name": "python",
   "nbconvert_exporter": "python",
   "pygments_lexer": "ipython3",
   "version": "3.11.7"
  }
 },
 "nbformat": 4,
 "nbformat_minor": 5
}
