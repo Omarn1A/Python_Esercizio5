{
 "cells": [
  {
   "cell_type": "code",
   "execution_count": 2,
   "id": "2154db04-5d19-4d97-9e41-294751bf62ad",
   "metadata": {},
   "outputs": [],
   "source": [
    "import pandas as pd\n",
    "df=pd.read_csv('boston.csv')"
   ]
  },
  {
   "cell_type": "code",
   "execution_count": 4,
   "id": "4c182a92-bfb2-4f82-938e-f6c7fa222002",
   "metadata": {},
   "outputs": [
    {
     "data": {
      "text/plain": [
       "Index(['crim', 'zn', 'indus', 'chas', 'nox', 'rm', 'age', 'dis', 'rad', 'tax',\n",
       "       'ptratio', 'black', 'lstat', 'medv'],\n",
       "      dtype='object')"
      ]
     },
     "execution_count": 4,
     "metadata": {},
     "output_type": "execute_result"
    }
   ],
   "source": [
    "df.columns"
   ]
  },
  {
   "cell_type": "code",
   "execution_count": 5,
   "id": "fc8a4249-22b1-4ae0-9f0e-e72e66836405",
   "metadata": {},
   "outputs": [
    {
     "data": {
      "text/plain": [
       "chas\n",
       "0    22.093843\n",
       "1    28.440000\n",
       "Name: medv, dtype: float64"
      ]
     },
     "execution_count": 5,
     "metadata": {},
     "output_type": "execute_result"
    }
   ],
   "source": [
    "df.groupby('chas')['medv'].mean()"
   ]
  },
  {
   "cell_type": "code",
   "execution_count": 9,
   "id": "48ea8cef-e21c-48b1-a693-b00f61185b39",
   "metadata": {},
   "outputs": [
    {
     "data": {
      "text/plain": [
       "medv\n",
       "5.0     53.136300\n",
       "5.6     25.046100\n",
       "6.3      9.916550\n",
       "7.0     22.964735\n",
       "7.2     16.377533\n",
       "          ...    \n",
       "46.7     0.298190\n",
       "48.3     0.331470\n",
       "48.5     0.035100\n",
       "48.8     0.520140\n",
       "50.0     2.703412\n",
       "Name: crim, Length: 229, dtype: float64"
      ]
     },
     "execution_count": 9,
     "metadata": {},
     "output_type": "execute_result"
    }
   ],
   "source": [
    "df.groupby(['medv'])['crim'].mean()"
   ]
  },
  {
   "cell_type": "code",
   "execution_count": 10,
   "id": "1f5d25ff-4a64-4be3-b699-e6d8ec08919e",
   "metadata": {},
   "outputs": [
    {
     "data": {
      "text/plain": [
       "crim\n",
       "0.00632     24.0\n",
       "0.00906     32.2\n",
       "0.01096     22.0\n",
       "0.01301     32.7\n",
       "0.01311     35.4\n",
       "            ... \n",
       "45.74610     7.0\n",
       "51.13580    15.0\n",
       "67.92080     5.0\n",
       "73.53410     8.8\n",
       "88.97620    10.4\n",
       "Name: medv, Length: 504, dtype: float64"
      ]
     },
     "execution_count": 10,
     "metadata": {},
     "output_type": "execute_result"
    }
   ],
   "source": [
    "df.groupby(['crim'])['medv'].mean()"
   ]
  },
  {
   "cell_type": "code",
   "execution_count": 11,
   "id": "57977a7f-5d4b-4ee5-8aee-1a0cefbb6fbb",
   "metadata": {},
   "outputs": [
    {
     "data": {
      "text/plain": [
       "ptratio\n",
       "12.6    7.222667\n",
       "13.0    7.406167\n",
       "13.6    7.923000\n",
       "14.4    7.875000\n",
       "14.7    6.246235\n",
       "14.8    6.752333\n",
       "14.9    7.311250\n",
       "15.1    6.816000\n",
       "15.2    6.421923\n",
       "15.3    6.705333\n",
       "15.5    7.241000\n",
       "15.6    6.702000\n",
       "15.9    6.997000\n",
       "16.0    6.230600\n",
       "16.1    6.428800\n",
       "16.4    6.139667\n",
       "16.6    6.344188\n",
       "16.8    6.146750\n",
       "16.9    6.016400\n",
       "17.0    6.868250\n",
       "17.3    6.383000\n",
       "17.4    7.212333\n",
       "17.6    6.822429\n",
       "17.8    6.496130\n",
       "17.9    6.134818\n",
       "18.0    7.218600\n",
       "18.2    6.283000\n",
       "18.3    6.520500\n",
       "18.4    6.285938\n",
       "18.5    6.288750\n",
       "18.6    6.111588\n",
       "18.7    6.406556\n",
       "18.8    5.956000\n",
       "18.9    5.785667\n",
       "19.0    6.453750\n",
       "19.1    6.234882\n",
       "19.2    6.053632\n",
       "19.6    6.224000\n",
       "19.7    6.303250\n",
       "20.1    5.585400\n",
       "20.2    6.024021\n",
       "20.9    6.266273\n",
       "21.0    6.039778\n",
       "21.1    5.888000\n",
       "21.2    6.028533\n",
       "22.0    5.799500\n",
       "Name: rm, dtype: float64"
      ]
     },
     "execution_count": 11,
     "metadata": {},
     "output_type": "execute_result"
    }
   ],
   "source": [
    "df.groupby(['ptratio'])['rm'].mean()"
   ]
  },
  {
   "cell_type": "code",
   "execution_count": 12,
   "id": "03b51c38-1c8c-4dad-ac1e-b0d4774bf225",
   "metadata": {},
   "outputs": [
    {
     "data": {
      "text/plain": [
       "medv\n",
       "5.0     5.5680\n",
       "5.6     5.9870\n",
       "6.3     5.8520\n",
       "7.0     4.9665\n",
       "7.2     6.0180\n",
       "         ...  \n",
       "46.7    7.6860\n",
       "48.3    8.2470\n",
       "48.5    7.8530\n",
       "48.8    8.3980\n",
       "50.0    7.4840\n",
       "Name: rm, Length: 229, dtype: float64"
      ]
     },
     "execution_count": 12,
     "metadata": {},
     "output_type": "execute_result"
    }
   ],
   "source": [
    "df.groupby(['medv'])['rm'].mean()"
   ]
  },
  {
   "cell_type": "code",
   "execution_count": 13,
   "id": "0f909de4-3d0f-4fe1-868f-bdd947ac9eb4",
   "metadata": {},
   "outputs": [
    {
     "data": {
      "text/plain": [
       "rad\n",
       "1     45.025000\n",
       "2     64.770833\n",
       "3     49.310526\n",
       "4     60.841818\n",
       "5     69.223478\n",
       "6     60.142308\n",
       "7     40.141176\n",
       "8     67.350000\n",
       "24    89.805303\n",
       "Name: age, dtype: float64"
      ]
     },
     "execution_count": 13,
     "metadata": {},
     "output_type": "execute_result"
    }
   ],
   "source": [
    "df.groupby(['rad'])['age'].mean()"
   ]
  },
  {
   "cell_type": "code",
   "execution_count": 14,
   "id": "2dacb8d1-bca1-4d70-9c66-cbb06aa4f8f7",
   "metadata": {},
   "outputs": [
    {
     "data": {
      "text/plain": [
       "rad\n",
       "1     6.555850\n",
       "2     6.649958\n",
       "3     6.473026\n",
       "4     6.133118\n",
       "5     6.393157\n",
       "6     6.104731\n",
       "7     6.647765\n",
       "8     6.950792\n",
       "24    6.022152\n",
       "Name: rm, dtype: float64"
      ]
     },
     "execution_count": 14,
     "metadata": {},
     "output_type": "execute_result"
    }
   ],
   "source": [
    "df.groupby(['rad'])['rm'].mean()"
   ]
  },
  {
   "cell_type": "code",
   "execution_count": 15,
   "id": "d1ea3592-e7ab-48ac-bbde-6cd6e02024a5",
   "metadata": {},
   "outputs": [
    {
     "data": {
      "text/plain": [
       "rad\n",
       "1     291.450000\n",
       "2     260.666667\n",
       "3     246.078947\n",
       "4     335.981818\n",
       "5     331.843478\n",
       "6     372.884615\n",
       "7     304.411765\n",
       "8     301.250000\n",
       "24    666.000000\n",
       "Name: tax, dtype: float64"
      ]
     },
     "execution_count": 15,
     "metadata": {},
     "output_type": "execute_result"
    }
   ],
   "source": [
    "df.groupby(['rad'])['tax'].mean()"
   ]
  },
  {
   "cell_type": "code",
   "execution_count": null,
   "id": "44b238fa-ab40-48d9-8bd7-d35bbb06efab",
   "metadata": {},
   "outputs": [],
   "source": []
  }
 ],
 "metadata": {
  "kernelspec": {
   "display_name": "Python 3 (ipykernel)",
   "language": "python",
   "name": "python3"
  },
  "language_info": {
   "codemirror_mode": {
    "name": "ipython",
    "version": 3
   },
   "file_extension": ".py",
   "mimetype": "text/x-python",
   "name": "python",
   "nbconvert_exporter": "python",
   "pygments_lexer": "ipython3",
   "version": "3.11.7"
  }
 },
 "nbformat": 4,
 "nbformat_minor": 5
}
