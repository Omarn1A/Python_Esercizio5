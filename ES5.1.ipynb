{
 "cells": [
  {
   "cell_type": "code",
   "execution_count": 42,
   "id": "32a25314-a2ce-4147-8638-c72abd9ee826",
   "metadata": {},
   "outputs": [],
   "source": [
    "import pandas as pd\n",
    "import os\n"
   ]
  },
  {
   "cell_type": "code",
   "execution_count": 6,
   "id": "088b4acb-0b40-4d2d-b517-b904a74100cc",
   "metadata": {},
   "outputs": [],
   "source": [
    "df=pd.read_json('Mappa-dei-pub-circoli-locali-in-Italia.json', encoding=\"latin1\")"
   ]
  },
  {
   "cell_type": "code",
   "execution_count": 7,
   "id": "4f4e0bdc-406d-4336-9109-a43023883823",
   "metadata": {},
   "outputs": [
    {
     "data": {
      "text/plain": [
       "(2497, 9)"
      ]
     },
     "execution_count": 7,
     "metadata": {},
     "output_type": "execute_result"
    }
   ],
   "source": [
    "df.shape"
   ]
  },
  {
   "cell_type": "code",
   "execution_count": 45,
   "id": "af096e30-5642-4f01-98a7-27564e29131e",
   "metadata": {},
   "outputs": [
    {
     "name": "stdout",
     "output_type": "stream",
     "text": [
      "<class 'pandas.core.frame.DataFrame'>\n",
      "RangeIndex: 2497 entries, 0 to 2496\n",
      "Data columns (total 9 columns):\n",
      " #   Column                            Non-Null Count  Dtype  \n",
      "---  ------                            --------------  -----  \n",
      " 0   ccomune                           2497 non-null   object \n",
      " 1   cprovincia                        2497 non-null   object \n",
      " 2   cregione                          2497 non-null   object \n",
      " 3   cnome                             2497 non-null   object \n",
      " 4   canno_inserimento                 2497 non-null   int64  \n",
      " 5   cdata_e_ora_inserimento           2497 non-null   object \n",
      " 6   cidentificatore_in_openstreetmap  2497 non-null   int64  \n",
      " 7   clongitudine                      2497 non-null   float64\n",
      " 8   clatitudine                       2497 non-null   float64\n",
      "dtypes: float64(2), int64(2), object(5)\n",
      "memory usage: 175.7+ KB\n"
     ]
    }
   ],
   "source": [
    "df.info()"
   ]
  },
  {
   "cell_type": "code",
   "execution_count": 8,
   "id": "ef11887c-76b0-4002-9157-5d70ae596c1f",
   "metadata": {},
   "outputs": [
    {
     "data": {
      "text/plain": [
       "<bound method DataFrame.info of              ccomune             cprovincia  cregione            cnome  \\\n",
       "0              ALTRO                  ALTRO     ALTRO                    \n",
       "1              ALTRO                  ALTRO     ALTRO      Lenny's Pub   \n",
       "2              ALTRO                  ALTRO     ALTRO  Murrayfield Pub   \n",
       "3              ALTRO                  ALTRO     ALTRO           Snop?e   \n",
       "4       Ala di Stura                 TORINO  Piemonte                    \n",
       "...              ...                    ...       ...              ...   \n",
       "2492   Barletta (BT)  BARLETTA ANDRIA TRANI    Puglia      Santa Croce   \n",
       "2493  Bisceglie (BT)  BARLETTA ANDRIA TRANI    Puglia      Auld Dublin   \n",
       "2494  Bisceglie (BT)  BARLETTA ANDRIA TRANI    Puglia            Ferus   \n",
       "2495      Trani (BT)  BARLETTA ANDRIA TRANI    Puglia          Re Artù   \n",
       "2496      Trani (BT)  BARLETTA ANDRIA TRANI    Puglia     Well's Fargo   \n",
       "\n",
       "      canno_inserimento cdata_e_ora_inserimento  \\\n",
       "0                  2011    2011-06-25T23:17:43Z   \n",
       "1                  2011    2011-07-29T17:22:56Z   \n",
       "2                  2015    2015-10-24T09:28:06Z   \n",
       "3                  2010    2010-09-22T08:32:52Z   \n",
       "4                  2012    2012-05-21T14:28:45Z   \n",
       "...                 ...                     ...   \n",
       "2492               2010    2010-01-17T16:15:08Z   \n",
       "2493               2014    2014-03-03T20:56:16Z   \n",
       "2494               2014    2014-01-07T19:22:18Z   \n",
       "2495               2009    2009-09-04T07:57:05Z   \n",
       "2496               2009    2009-08-10T12:44:03Z   \n",
       "\n",
       "      cidentificatore_in_openstreetmap  clongitudine  clatitudine  \n",
       "0                           1339088150     13.733257    45.575830  \n",
       "1                           1375887295     12.418681    46.747584  \n",
       "2                           3323888102      9.029585    45.831340  \n",
       "3                            921157802     13.640939    45.954607  \n",
       "4                           1760949034      7.307306    45.313150  \n",
       "...                                ...           ...          ...  \n",
       "2492                         615632993     16.285782    41.320671  \n",
       "2493                        2613737619     16.497204    41.241814  \n",
       "2494                        2613737620     16.506175    41.240957  \n",
       "2495                         482836935     16.418124    41.281518  \n",
       "2496                         387223648     16.436765    41.267264  \n",
       "\n",
       "[2497 rows x 9 columns]>"
      ]
     },
     "execution_count": 8,
     "metadata": {},
     "output_type": "execute_result"
    }
   ],
   "source": [
    "df.info"
   ]
  },
  {
   "cell_type": "code",
   "execution_count": 9,
   "id": "f3e88adf-53c9-49b5-bbfd-73127f19ac70",
   "metadata": {},
   "outputs": [
    {
     "data": {
      "text/html": [
       "<div>\n",
       "<style scoped>\n",
       "    .dataframe tbody tr th:only-of-type {\n",
       "        vertical-align: middle;\n",
       "    }\n",
       "\n",
       "    .dataframe tbody tr th {\n",
       "        vertical-align: top;\n",
       "    }\n",
       "\n",
       "    .dataframe thead th {\n",
       "        text-align: right;\n",
       "    }\n",
       "</style>\n",
       "<table border=\"1\" class=\"dataframe\">\n",
       "  <thead>\n",
       "    <tr style=\"text-align: right;\">\n",
       "      <th></th>\n",
       "      <th>ccomune</th>\n",
       "      <th>cprovincia</th>\n",
       "      <th>cregione</th>\n",
       "      <th>cnome</th>\n",
       "      <th>canno_inserimento</th>\n",
       "      <th>cdata_e_ora_inserimento</th>\n",
       "      <th>cidentificatore_in_openstreetmap</th>\n",
       "      <th>clongitudine</th>\n",
       "      <th>clatitudine</th>\n",
       "    </tr>\n",
       "  </thead>\n",
       "  <tbody>\n",
       "    <tr>\n",
       "      <th>0</th>\n",
       "      <td>ALTRO</td>\n",
       "      <td>ALTRO</td>\n",
       "      <td>ALTRO</td>\n",
       "      <td></td>\n",
       "      <td>2011</td>\n",
       "      <td>2011-06-25T23:17:43Z</td>\n",
       "      <td>1339088150</td>\n",
       "      <td>13.733257</td>\n",
       "      <td>45.57583</td>\n",
       "    </tr>\n",
       "  </tbody>\n",
       "</table>\n",
       "</div>"
      ],
      "text/plain": [
       "  ccomune cprovincia cregione cnome  canno_inserimento  \\\n",
       "0   ALTRO      ALTRO    ALTRO                     2011   \n",
       "\n",
       "  cdata_e_ora_inserimento  cidentificatore_in_openstreetmap  clongitudine  \\\n",
       "0    2011-06-25T23:17:43Z                        1339088150     13.733257   \n",
       "\n",
       "   clatitudine  \n",
       "0     45.57583  "
      ]
     },
     "execution_count": 9,
     "metadata": {},
     "output_type": "execute_result"
    }
   ],
   "source": [
    "df.head(1)"
   ]
  },
  {
   "cell_type": "code",
   "execution_count": 10,
   "id": "2b21ef89-4578-4098-a10b-b76732ad961c",
   "metadata": {},
   "outputs": [
    {
     "data": {
      "text/html": [
       "<div>\n",
       "<style scoped>\n",
       "    .dataframe tbody tr th:only-of-type {\n",
       "        vertical-align: middle;\n",
       "    }\n",
       "\n",
       "    .dataframe tbody tr th {\n",
       "        vertical-align: top;\n",
       "    }\n",
       "\n",
       "    .dataframe thead th {\n",
       "        text-align: right;\n",
       "    }\n",
       "</style>\n",
       "<table border=\"1\" class=\"dataframe\">\n",
       "  <thead>\n",
       "    <tr style=\"text-align: right;\">\n",
       "      <th></th>\n",
       "      <th>ccomune</th>\n",
       "      <th>cprovincia</th>\n",
       "      <th>cregione</th>\n",
       "      <th>cnome</th>\n",
       "      <th>canno_inserimento</th>\n",
       "      <th>cdata_e_ora_inserimento</th>\n",
       "      <th>cidentificatore_in_openstreetmap</th>\n",
       "      <th>clongitudine</th>\n",
       "      <th>clatitudine</th>\n",
       "    </tr>\n",
       "  </thead>\n",
       "  <tbody>\n",
       "    <tr>\n",
       "      <th>2496</th>\n",
       "      <td>Trani (BT)</td>\n",
       "      <td>BARLETTA ANDRIA TRANI</td>\n",
       "      <td>Puglia</td>\n",
       "      <td>Well's Fargo</td>\n",
       "      <td>2009</td>\n",
       "      <td>2009-08-10T12:44:03Z</td>\n",
       "      <td>387223648</td>\n",
       "      <td>16.436765</td>\n",
       "      <td>41.267264</td>\n",
       "    </tr>\n",
       "  </tbody>\n",
       "</table>\n",
       "</div>"
      ],
      "text/plain": [
       "         ccomune             cprovincia cregione         cnome  \\\n",
       "2496  Trani (BT)  BARLETTA ANDRIA TRANI   Puglia  Well's Fargo   \n",
       "\n",
       "      canno_inserimento cdata_e_ora_inserimento  \\\n",
       "2496               2009    2009-08-10T12:44:03Z   \n",
       "\n",
       "      cidentificatore_in_openstreetmap  clongitudine  clatitudine  \n",
       "2496                         387223648     16.436765    41.267264  "
      ]
     },
     "execution_count": 10,
     "metadata": {},
     "output_type": "execute_result"
    }
   ],
   "source": [
    "df.tail(1)"
   ]
  },
  {
   "cell_type": "code",
   "execution_count": 11,
   "id": "20d42315-c848-4f31-a1ee-3f43e6234e4c",
   "metadata": {},
   "outputs": [
    {
     "data": {
      "text/html": [
       "<div>\n",
       "<style scoped>\n",
       "    .dataframe tbody tr th:only-of-type {\n",
       "        vertical-align: middle;\n",
       "    }\n",
       "\n",
       "    .dataframe tbody tr th {\n",
       "        vertical-align: top;\n",
       "    }\n",
       "\n",
       "    .dataframe thead th {\n",
       "        text-align: right;\n",
       "    }\n",
       "</style>\n",
       "<table border=\"1\" class=\"dataframe\">\n",
       "  <thead>\n",
       "    <tr style=\"text-align: right;\">\n",
       "      <th></th>\n",
       "      <th>ccomune</th>\n",
       "      <th>cprovincia</th>\n",
       "      <th>cregione</th>\n",
       "      <th>cnome</th>\n",
       "      <th>canno_inserimento</th>\n",
       "      <th>cdata_e_ora_inserimento</th>\n",
       "      <th>cidentificatore_in_openstreetmap</th>\n",
       "      <th>clongitudine</th>\n",
       "      <th>clatitudine</th>\n",
       "    </tr>\n",
       "  </thead>\n",
       "  <tbody>\n",
       "    <tr>\n",
       "      <th>1667</th>\n",
       "      <td>Livorno</td>\n",
       "      <td>LIVORNO</td>\n",
       "      <td>Toscana</td>\n",
       "      <td>Pub Officina Metropolis</td>\n",
       "      <td>2012</td>\n",
       "      <td>2012-03-30T13:21:06Z</td>\n",
       "      <td>1697770823</td>\n",
       "      <td>10.312025</td>\n",
       "      <td>43.547308</td>\n",
       "    </tr>\n",
       "  </tbody>\n",
       "</table>\n",
       "</div>"
      ],
      "text/plain": [
       "      ccomune cprovincia cregione                    cnome  canno_inserimento  \\\n",
       "1667  Livorno    LIVORNO  Toscana  Pub Officina Metropolis               2012   \n",
       "\n",
       "     cdata_e_ora_inserimento  cidentificatore_in_openstreetmap  clongitudine  \\\n",
       "1667    2012-03-30T13:21:06Z                        1697770823     10.312025   \n",
       "\n",
       "      clatitudine  \n",
       "1667    43.547308  "
      ]
     },
     "execution_count": 11,
     "metadata": {},
     "output_type": "execute_result"
    }
   ],
   "source": [
    "df.sample(1)"
   ]
  },
  {
   "cell_type": "code",
   "execution_count": 12,
   "id": "a000a483-9e4e-4968-a2bb-5eb7dec4bef5",
   "metadata": {},
   "outputs": [
    {
     "data": {
      "text/plain": [
       "Index(['ccomune', 'cprovincia', 'cregione', 'cnome', 'canno_inserimento',\n",
       "       'cdata_e_ora_inserimento', 'cidentificatore_in_openstreetmap',\n",
       "       'clongitudine', 'clatitudine'],\n",
       "      dtype='object')"
      ]
     },
     "execution_count": 12,
     "metadata": {},
     "output_type": "execute_result"
    }
   ],
   "source": [
    "df.columns"
   ]
  },
  {
   "cell_type": "code",
   "execution_count": 46,
   "id": "574ee709-9d01-45db-a15d-2cb1db468a6e",
   "metadata": {},
   "outputs": [
    {
     "data": {
      "text/html": [
       "<div>\n",
       "<style scoped>\n",
       "    .dataframe tbody tr th:only-of-type {\n",
       "        vertical-align: middle;\n",
       "    }\n",
       "\n",
       "    .dataframe tbody tr th {\n",
       "        vertical-align: top;\n",
       "    }\n",
       "\n",
       "    .dataframe thead th {\n",
       "        text-align: right;\n",
       "    }\n",
       "</style>\n",
       "<table border=\"1\" class=\"dataframe\">\n",
       "  <thead>\n",
       "    <tr style=\"text-align: right;\">\n",
       "      <th></th>\n",
       "      <th>ccomune</th>\n",
       "      <th>cprovincia</th>\n",
       "      <th>cregione</th>\n",
       "      <th>cnome</th>\n",
       "      <th>cdata_e_ora_inserimento</th>\n",
       "      <th>cidentificatore_in_openstreetmap</th>\n",
       "      <th>clongitudine</th>\n",
       "      <th>clatitudine</th>\n",
       "    </tr>\n",
       "    <tr>\n",
       "      <th>canno_inserimento</th>\n",
       "      <th></th>\n",
       "      <th></th>\n",
       "      <th></th>\n",
       "      <th></th>\n",
       "      <th></th>\n",
       "      <th></th>\n",
       "      <th></th>\n",
       "      <th></th>\n",
       "    </tr>\n",
       "  </thead>\n",
       "  <tbody>\n",
       "    <tr>\n",
       "      <th>2007</th>\n",
       "      <td>Penne</td>\n",
       "      <td>PESCARA</td>\n",
       "      <td>Abruzzo</td>\n",
       "      <td>Don Chisciotte</td>\n",
       "      <td>2007-11-10T00:32:57Z</td>\n",
       "      <td>54196523</td>\n",
       "      <td>13.930044</td>\n",
       "      <td>42.456608</td>\n",
       "    </tr>\n",
       "    <tr>\n",
       "      <th>2008</th>\n",
       "      <td>Villanova Mondovi'</td>\n",
       "      <td>VARESE</td>\n",
       "      <td>Veneto</td>\n",
       "      <td>whisky</td>\n",
       "      <td>2008-12-20T22:52:34Z</td>\n",
       "      <td>320363956</td>\n",
       "      <td>15.117412</td>\n",
       "      <td>46.737893</td>\n",
       "    </tr>\n",
       "    <tr>\n",
       "      <th>2009</th>\n",
       "      <td>Viterbo</td>\n",
       "      <td>VITERBO</td>\n",
       "      <td>Veneto</td>\n",
       "      <td>pub all'aperto \"\"il Castello\"\"</td>\n",
       "      <td>2009-12-30T17:59:57Z</td>\n",
       "      <td>601010028</td>\n",
       "      <td>16.436765</td>\n",
       "      <td>46.772202</td>\n",
       "    </tr>\n",
       "    <tr>\n",
       "      <th>2010</th>\n",
       "      <td>Visso</td>\n",
       "      <td>VICENZA</td>\n",
       "      <td>Veneto</td>\n",
       "      <td>il Coccio</td>\n",
       "      <td>2010-12-31T15:27:21Z</td>\n",
       "      <td>1075419007</td>\n",
       "      <td>17.580221</td>\n",
       "      <td>46.983781</td>\n",
       "    </tr>\n",
       "    <tr>\n",
       "      <th>2011</th>\n",
       "      <td>Volpago del Montello</td>\n",
       "      <td>VICENZA</td>\n",
       "      <td>Veneto</td>\n",
       "      <td>theNeuPop</td>\n",
       "      <td>2011-12-31T16:59:06Z</td>\n",
       "      <td>1571603800</td>\n",
       "      <td>18.334656</td>\n",
       "      <td>46.898994</td>\n",
       "    </tr>\n",
       "    <tr>\n",
       "      <th>2012</th>\n",
       "      <td>Zoppola</td>\n",
       "      <td>VITERBO</td>\n",
       "      <td>Veneto</td>\n",
       "      <td>la cantinaccia</td>\n",
       "      <td>2012-12-31T02:07:31Z</td>\n",
       "      <td>2087368586</td>\n",
       "      <td>18.190631</td>\n",
       "      <td>46.898827</td>\n",
       "    </tr>\n",
       "    <tr>\n",
       "      <th>2013</th>\n",
       "      <td>Volpago del Montello</td>\n",
       "      <td>VITERBO</td>\n",
       "      <td>Veneto</td>\n",
       "      <td>villa bianco</td>\n",
       "      <td>2013-12-31T14:42:05Z</td>\n",
       "      <td>2603332838</td>\n",
       "      <td>18.172074</td>\n",
       "      <td>46.900082</td>\n",
       "    </tr>\n",
       "    <tr>\n",
       "      <th>2014</th>\n",
       "      <td>Villafranca di Verona</td>\n",
       "      <td>VITERBO</td>\n",
       "      <td>Veneto</td>\n",
       "      <td>s?Itipftl</td>\n",
       "      <td>2014-12-30T09:30:41Z</td>\n",
       "      <td>3259520916</td>\n",
       "      <td>18.444577</td>\n",
       "      <td>46.884450</td>\n",
       "    </tr>\n",
       "    <tr>\n",
       "      <th>2015</th>\n",
       "      <td>Voghera</td>\n",
       "      <td>VITERBO</td>\n",
       "      <td>Veneto</td>\n",
       "      <td>the Apartment</td>\n",
       "      <td>2015-12-31T21:17:15Z</td>\n",
       "      <td>3914892218</td>\n",
       "      <td>18.360489</td>\n",
       "      <td>46.890489</td>\n",
       "    </tr>\n",
       "    <tr>\n",
       "      <th>2016</th>\n",
       "      <td>Vipiteno</td>\n",
       "      <td>VICENZA</td>\n",
       "      <td>Veneto</td>\n",
       "      <td>Zhizun Pub</td>\n",
       "      <td>2016-02-22T15:34:07Z</td>\n",
       "      <td>4012443016</td>\n",
       "      <td>18.175247</td>\n",
       "      <td>46.896041</td>\n",
       "    </tr>\n",
       "  </tbody>\n",
       "</table>\n",
       "</div>"
      ],
      "text/plain": [
       "                                 ccomune cprovincia cregione  \\\n",
       "canno_inserimento                                              \n",
       "2007                               Penne    PESCARA  Abruzzo   \n",
       "2008                  Villanova Mondovi'     VARESE   Veneto   \n",
       "2009                             Viterbo    VITERBO   Veneto   \n",
       "2010                               Visso    VICENZA   Veneto   \n",
       "2011                Volpago del Montello    VICENZA   Veneto   \n",
       "2012                             Zoppola    VITERBO   Veneto   \n",
       "2013                Volpago del Montello    VITERBO   Veneto   \n",
       "2014               Villafranca di Verona    VITERBO   Veneto   \n",
       "2015                             Voghera    VITERBO   Veneto   \n",
       "2016                            Vipiteno    VICENZA   Veneto   \n",
       "\n",
       "                                            cnome cdata_e_ora_inserimento  \\\n",
       "canno_inserimento                                                           \n",
       "2007                               Don Chisciotte    2007-11-10T00:32:57Z   \n",
       "2008                                       whisky    2008-12-20T22:52:34Z   \n",
       "2009               pub all'aperto \"\"il Castello\"\"    2009-12-30T17:59:57Z   \n",
       "2010                                    il Coccio    2010-12-31T15:27:21Z   \n",
       "2011                                    theNeuPop    2011-12-31T16:59:06Z   \n",
       "2012                               la cantinaccia    2012-12-31T02:07:31Z   \n",
       "2013                                 villa bianco    2013-12-31T14:42:05Z   \n",
       "2014                                    s?Itipftl    2014-12-30T09:30:41Z   \n",
       "2015                                the Apartment    2015-12-31T21:17:15Z   \n",
       "2016                                   Zhizun Pub    2016-02-22T15:34:07Z   \n",
       "\n",
       "                   cidentificatore_in_openstreetmap  clongitudine  clatitudine  \n",
       "canno_inserimento                                                               \n",
       "2007                                       54196523     13.930044    42.456608  \n",
       "2008                                      320363956     15.117412    46.737893  \n",
       "2009                                      601010028     16.436765    46.772202  \n",
       "2010                                     1075419007     17.580221    46.983781  \n",
       "2011                                     1571603800     18.334656    46.898994  \n",
       "2012                                     2087368586     18.190631    46.898827  \n",
       "2013                                     2603332838     18.172074    46.900082  \n",
       "2014                                     3259520916     18.444577    46.884450  \n",
       "2015                                     3914892218     18.360489    46.890489  \n",
       "2016                                     4012443016     18.175247    46.896041  "
      ]
     },
     "execution_count": 46,
     "metadata": {},
     "output_type": "execute_result"
    }
   ],
   "source": [
    "df.groupby('canno_inserimento').max()"
   ]
  },
  {
   "cell_type": "code",
   "execution_count": 49,
   "id": "423a60a5-237b-43a7-bde4-7c296bbfdd52",
   "metadata": {},
   "outputs": [
    {
     "data": {
      "text/plain": [
       "array([2011, 2015, 2010, 2012, 2014, 2016, 2013, 2008, 2009, 2007],\n",
       "      dtype=int64)"
      ]
     },
     "execution_count": 49,
     "metadata": {},
     "output_type": "execute_result"
    }
   ],
   "source": [
    "df['canno_inserimento'].unique()"
   ]
  },
  {
   "cell_type": "code",
   "execution_count": 83,
   "id": "3e2de0ac-2691-48d3-acf9-21078d973434",
   "metadata": {},
   "outputs": [
    {
     "data": {
      "text/plain": [
       "ccomune                             303\n",
       "cprovincia                          303\n",
       "cregione                            303\n",
       "cnome                               303\n",
       "canno_inserimento                   303\n",
       "cdata_e_ora_inserimento             303\n",
       "cidentificatore_in_openstreetmap    303\n",
       "clongitudine                        303\n",
       "clatitudine                         303\n",
       "dtype: int64"
      ]
     },
     "execution_count": 83,
     "metadata": {},
     "output_type": "execute_result"
    }
   ],
   "source": [
    "filtro1 = (df['clatitudine'] >= 45) & (df['clatitudine'] <= 46) & (df['clongitudine'] >= 9) & (df['clongitudine'] <= 10)\n",
    "quadrato=df.loc[filtro1]\n",
    "quadrato.count()"
   ]
  },
  {
   "cell_type": "code",
   "execution_count": 82,
   "id": "2f04309b-9d6a-456e-b285-ecca3c3de73c",
   "metadata": {},
   "outputs": [
    {
     "data": {
      "text/plain": [
       "ccomune                             58\n",
       "cprovincia                          58\n",
       "cregione                            58\n",
       "cnome                               58\n",
       "canno_inserimento                   58\n",
       "cdata_e_ora_inserimento             58\n",
       "cidentificatore_in_openstreetmap    58\n",
       "clongitudine                        58\n",
       "clatitudine                         58\n",
       "dtype: int64"
      ]
     },
     "execution_count": 82,
     "metadata": {},
     "output_type": "execute_result"
    }
   ],
   "source": [
    "filtro_venezia=df['cprovincia']=='VENEZIA'\n",
    "venezia=df.loc[filtro_venezia]\n",
    "venezia.count()"
   ]
  },
  {
   "cell_type": "code",
   "execution_count": 81,
   "id": "d0a3293c-8fc4-4117-b119-b78743802d78",
   "metadata": {},
   "outputs": [
    {
     "data": {
      "text/plain": [
       "ccomune                             189\n",
       "cprovincia                          189\n",
       "cregione                            189\n",
       "cnome                               189\n",
       "canno_inserimento                   189\n",
       "cdata_e_ora_inserimento             189\n",
       "cidentificatore_in_openstreetmap    189\n",
       "clongitudine                        189\n",
       "clatitudine                         189\n",
       "dtype: int64"
      ]
     },
     "execution_count": 81,
     "metadata": {},
     "output_type": "execute_result"
    }
   ],
   "source": [
    "lazio=df['cregione']=='Lazio'\n",
    "abruzzo=['cregione']=='Abruzzo'\n",
    "lazioabruzzo=df.loc[lazio | abruzzo]\n",
    "lazioabruzzo.count()"
   ]
  },
  {
   "cell_type": "code",
   "execution_count": null,
   "id": "2810abf6-79ab-486f-9661-48b15c1a465e",
   "metadata": {},
   "outputs": [],
   "source": []
  }
 ],
 "metadata": {
  "kernelspec": {
   "display_name": "Python 3 (ipykernel)",
   "language": "python",
   "name": "python3"
  },
  "language_info": {
   "codemirror_mode": {
    "name": "ipython",
    "version": 3
   },
   "file_extension": ".py",
   "mimetype": "text/x-python",
   "name": "python",
   "nbconvert_exporter": "python",
   "pygments_lexer": "ipython3",
   "version": "3.11.7"
  }
 },
 "nbformat": 4,
 "nbformat_minor": 5
}
